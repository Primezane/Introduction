{
 "cells": [
  {
   "cell_type": "code",
   "execution_count": 1,
   "id": "dental-dutch",
   "metadata": {},
   "outputs": [],
   "source": [
    "import tensorflow as tf"
   ]
  },
  {
   "cell_type": "code",
   "execution_count": 2,
   "id": "unauthorized-surgeon",
   "metadata": {},
   "outputs": [],
   "source": [
    "fmnist = tf.keras.datasets.fashion_mnist\n",
    "\n",
    "(training_images, training_labels), (test_images, test_labels) = fmnist.load_data()"
   ]
  },
  {
   "cell_type": "code",
   "execution_count": 3,
   "id": "falling-praise",
   "metadata": {},
   "outputs": [],
   "source": [
    "normalize = lambda x : tf.cast(x, tf.float32) / 255.0"
   ]
  },
  {
   "cell_type": "code",
   "execution_count": 4,
   "id": "thirty-rough",
   "metadata": {},
   "outputs": [],
   "source": [
    "training_images = normalize(training_images)\n",
    "test_images = normalize(test_images)"
   ]
  },
  {
   "cell_type": "code",
   "execution_count": 5,
   "id": "proprietary-attachment",
   "metadata": {},
   "outputs": [],
   "source": [
    "model = tf.keras.models.Sequential([\n",
    "    tf.keras.layers.Flatten(),\n",
    "    tf.keras.layers.Dense(128, activation=tf.nn.relu),\n",
    "    tf.keras.layers.Dense(10, activation=tf.nn.softmax)\n",
    "])"
   ]
  },
  {
   "cell_type": "code",
   "execution_count": 6,
   "id": "chubby-sixth",
   "metadata": {},
   "outputs": [],
   "source": [
    "model.compile(optimizer = 'adam',\n",
    "              loss = 'sparse_categorical_crossentropy',\n",
    "              metrics=['accuracy'])"
   ]
  },
  {
   "cell_type": "code",
   "execution_count": 7,
   "id": "sublime-italy",
   "metadata": {},
   "outputs": [
    {
     "name": "stdout",
     "output_type": "stream",
     "text": [
      "Epoch 1/5\n",
      "1875/1875 - 6s - loss: 0.4948 - accuracy: 0.8269 - 6s/epoch - 3ms/step\n",
      "Epoch 2/5\n",
      "1875/1875 - 5s - loss: 0.3734 - accuracy: 0.8656 - 5s/epoch - 3ms/step\n",
      "Epoch 3/5\n",
      "1875/1875 - 5s - loss: 0.3374 - accuracy: 0.8756 - 5s/epoch - 3ms/step\n",
      "Epoch 4/5\n",
      "1875/1875 - 5s - loss: 0.3106 - accuracy: 0.8849 - 5s/epoch - 3ms/step\n",
      "Epoch 5/5\n",
      "1875/1875 - 5s - loss: 0.2960 - accuracy: 0.8915 - 5s/epoch - 3ms/step\n"
     ]
    },
    {
     "data": {
      "text/plain": [
       "<keras.callbacks.History at 0x7f27109129d0>"
      ]
     },
     "execution_count": 7,
     "metadata": {},
     "output_type": "execute_result"
    }
   ],
   "source": [
    "model.fit(training_images, training_labels, epochs=5, verbose=2)"
   ]
  },
  {
   "cell_type": "code",
   "execution_count": 8,
   "id": "excess-option",
   "metadata": {},
   "outputs": [
    {
     "name": "stdout",
     "output_type": "stream",
     "text": [
      "313/313 [==============================] - 1s 1ms/step - loss: 0.3381 - accuracy: 0.8779\n",
      "loss : 0.33806973695755005\n",
      "accuracy : 0.8779000043869019\n"
     ]
    }
   ],
   "source": [
    "loss, accuracy = model.evaluate(test_images, test_labels)\n",
    "\n",
    "print(f\"loss : {loss}\")\n",
    "print(f\"accuracy : {accuracy}\")"
   ]
  },
  {
   "cell_type": "code",
   "execution_count": 9,
   "id": "frequent-combining",
   "metadata": {},
   "outputs": [
    {
     "data": {
      "text/plain": [
       "TestResults(failed=0, attempted=2)"
      ]
     },
     "execution_count": 9,
     "metadata": {},
     "output_type": "execute_result"
    }
   ],
   "source": [
    "def relu(x):\n",
    "    \"\"\"\n",
    "    >>> print(relu(2))\n",
    "    2\n",
    "    \n",
    "    >>> print(relu(-2))\n",
    "    0\n",
    "    \"\"\"\n",
    "    return max(0, x)\n",
    "\n",
    "import doctest\n",
    "doctest.testmod()"
   ]
  },
  {
   "cell_type": "code",
   "execution_count": 10,
   "id": "secondary-earth",
   "metadata": {},
   "outputs": [
    {
     "name": "stdout",
     "output_type": "stream",
     "text": [
      "relu : 2\n",
      "relu : 0\n"
     ]
    }
   ],
   "source": [
    "print(f\"relu : {relu(2)}\")\n",
    "print(f\"relu : {relu(-2)}\")"
   ]
  },
  {
   "cell_type": "code",
   "execution_count": 11,
   "id": "passive-architecture",
   "metadata": {},
   "outputs": [
    {
     "name": "stdout",
     "output_type": "stream",
     "text": [
      "tf.Tensor([[0.0320586  0.23688282 0.64391426 0.08714432]], shape=(1, 4), dtype=float64)\n"
     ]
    }
   ],
   "source": [
    "import numpy as np\n",
    "\n",
    "def softmax(nums):\n",
    "    return tf.math.exp(nums) / tf.reduce_sum(tf.math.exp(nums))\n",
    "\n",
    "print(softmax(np.array([[1.0, 3.0, 4.0, 2.0]])))"
   ]
  }
 ],
 "metadata": {
  "kernelspec": {
   "display_name": "Python 3",
   "language": "python",
   "name": "python3"
  },
  "language_info": {
   "codemirror_mode": {
    "name": "ipython",
    "version": 3
   },
   "file_extension": ".py",
   "mimetype": "text/x-python",
   "name": "python",
   "nbconvert_exporter": "python",
   "pygments_lexer": "ipython3",
   "version": "3.8.8"
  }
 },
 "nbformat": 4,
 "nbformat_minor": 5
}
